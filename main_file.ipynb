{
 "cells": [
  {
   "cell_type": "code",
   "execution_count": 158,
   "metadata": {},
   "outputs": [],
   "source": [
    "import pandas as pd\n",
    "import numpy as np\n",
    "import pickle\n",
    "from xgboost import XGBRegressor\n",
    "import datetime\n",
    "import time\n",
    "import warnings\n",
    "warnings.filterwarnings(\"ignore\")"
   ]
  },
  {
   "cell_type": "code",
   "execution_count": 159,
   "metadata": {},
   "outputs": [],
   "source": [
    "past_data = pickle.load(open('past_data.pkl', 'rb'))\n"
   ]
  },
  {
   "cell_type": "code",
   "execution_count": 160,
   "metadata": {},
   "outputs": [],
   "source": [
    "xgb_model = pickle.load(open('xgb_model_final.pkl', 'rb'))"
   ]
  },
  {
   "cell_type": "code",
   "execution_count": 161,
   "metadata": {},
   "outputs": [],
   "source": [
    "def predict_pickups(input_df,past_data):\n",
    "    # Converting Time stamps to UNIX time stamp format\n",
    "    # \"YYYY-MM-DD HH:MM:SS\" into unix time stamp\n",
    "\n",
    "    def convert_to_unix(s):\n",
    "        s = str(s)\n",
    "        return time.mktime(datetime.datetime.strptime(s, \"%Y-%m-%d %H:%M:%S\").timetuple())\n",
    "\n",
    "    #Refer:https://www.unixtimestamp.com/\n",
    "    # 1640975400 : 2022-01-01 00:00:00 \n",
    "    # 1643653800 : 2022-02-01 00:00:00 \n",
    "    # 1646073000 : 2022-03-01 00:00:00\n",
    "\n",
    "    # 1672511400 : 2023-01-01 00:00:00 \n",
    "    # 1675189800 : 2023-02-01 00:00:00 \n",
    "    # 1677609000 : 2023-03-01 00:00:00\n",
    "\n",
    "    def add_pickup_bins(timestamp):\n",
    "        \"\"\"\n",
    "        Adds pickup bins to the given DataFrame\n",
    "\n",
    "        Args:\n",
    "            frame (DataFrame): The DataFrame to which pickup bins will be added.\n",
    "\n",
    "        Returns:\n",
    "            DataFrame: The updated DataFrame with pickup bins added.\n",
    "        \"\"\"\n",
    "        \n",
    "        start_pickup_unix = 1672511400\n",
    "        tenminutewise_binned_unix_pickup_times = (int((timestamp - start_pickup_unix) / 600))\n",
    "        bin_number = tenminutewise_binned_unix_pickup_times\n",
    "\n",
    "        return bin_number\n",
    "    \n",
    "    # converting to unix time stamp\n",
    "    input_df['PU_timestamp'] = input_df['PU_timestamp'].apply(convert_to_unix)\n",
    "    # adding pickup bin number \n",
    "    input_df['bin_number'] = input_df['PU_timestamp'].apply(add_pickup_bins) \n",
    "    # Calculating the row number for the given bin number\n",
    "    input_df['row_number'] = input_df['bin_number']  + (input_df['locationID'] * 12960)\n",
    "    # Calculating the row number for the given bin number\n",
    "    input_df['row_number'] = input_df['row_number'] - 5*(input_df['locationID']+1)\n",
    "    \n",
    "    \n",
    "    # getting the feature row for the given bin number\n",
    "    feature_row = past_data.iloc[input_df['row_number']] \n",
    "    # reseting the index\n",
    "    feature_row = feature_row.reset_index(drop=True)\n",
    "    # print(feature_row)\n",
    "    \n",
    "    # predicting the number of pickups\n",
    "    y_pred = xgb_model.predict(feature_row) \n",
    "    output = round(y_pred[0])\n",
    "    \n",
    "    \n",
    "    return output\n",
    "    "
   ]
  },
  {
   "cell_type": "code",
   "execution_count": 162,
   "metadata": {},
   "outputs": [],
   "source": [
    "# API input\n",
    "input_locationID = 264\n",
    "input_timestamp = '2023-02-01 23:59:00'\n",
    "\n",
    "data = {'locationID': [input_locationID],\n",
    "        'PU_timestamp': [input_timestamp]}\n",
    "\n",
    "input_df = pd.DataFrame(data)"
   ]
  },
  {
   "cell_type": "code",
   "execution_count": 163,
   "metadata": {},
   "outputs": [
    {
     "name": "stdout",
     "output_type": "stream",
     "text": [
      "Predicted number of Pickups: 1\n"
     ]
    }
   ],
   "source": [
    "print(\"Predicted number of Pickups:\",predict_pickups(input_df,past_data))"
   ]
  },
  {
   "cell_type": "code",
   "execution_count": null,
   "metadata": {},
   "outputs": [],
   "source": []
  }
 ],
 "metadata": {
  "kernelspec": {
   "display_name": "moto",
   "language": "python",
   "name": "python3"
  },
  "language_info": {
   "codemirror_mode": {
    "name": "ipython",
    "version": 3
   },
   "file_extension": ".py",
   "mimetype": "text/x-python",
   "name": "python",
   "nbconvert_exporter": "python",
   "pygments_lexer": "ipython3",
   "version": "3.12.2"
  }
 },
 "nbformat": 4,
 "nbformat_minor": 2
}
